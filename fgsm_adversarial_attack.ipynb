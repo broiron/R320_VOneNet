{
 "cells": [
  {
   "cell_type": "code",
   "execution_count": 5,
   "metadata": {},
   "outputs": [],
   "source": [
    "import torch\n",
    "import data\n",
    "\n",
    "import matplotlib.pyplot as plt\n",
    "\n",
    "from tqdm import tqdm\n",
    "import os"
   ]
  },
  {
   "cell_type": "code",
   "execution_count": 2,
   "metadata": {},
   "outputs": [],
   "source": [
    "def generate_image_adversary(model, img_batch, target_batch, eps=0.35, device='cuda'):\n",
    "    global i\n",
    "\n",
    "    img = img_batch.clone().to(device)\n",
    "    label = target_batch.clone().to(device)\n",
    "\n",
    "    img.requires_grad = True\n",
    "\n",
    "    pred = model(img).to(device)\n",
    "\n",
    "    loss_fn = torch.nn.CrossEntropyLoss()\n",
    "    loss = loss_fn(pred, label).to(device)\n",
    "\n",
    "    # we need to calculate ∇xJ(x,θ)\n",
    "    # with torch.autograd.set_detect_anomaly(True):\n",
    "    loss.backward()\n",
    "    img.requires_grad = False\n",
    "    img = img + eps*img.grad.data.sign()\n",
    "\n",
    "    return img, label"
   ]
  },
  {
   "cell_type": "code",
   "execution_count": 7,
   "metadata": {},
   "outputs": [
    {
     "name": "stdout",
     "output_type": "stream",
     "text": [
      "enter image size -> image size: (img_size x img_size)28\n",
      "enter batch size1\n",
      "enter MNIST data set directory path (default: './MNIST_data')./MNIST_data\n",
      "enter model path (*.pth)./weights/best.pth\n",
      "/home/r320/Desktop/joono-lab/VOneNet_FGSM_MNIST/MNIST_data_attacked/origin has been created\n",
      "/home/r320/Desktop/joono-lab/VOneNet_FGSM_MNIST/MNIST_data_attacked/adversarial has been created\n"
     ]
    }
   ],
   "source": [
    "image_size = int(input(\"enter image size -> image size: (img_size x img_size)\"))\n",
    "batch_size = int(input(\"enter batch size\"))\n",
    "mnist_data_path = input(\"enter MNIST data set directory path (default: './MNIST_data')\")\n",
    "model_path = input(\"enter model path (*.pth)\")\n",
    "\n",
    "# convert to absolute path \n",
    "mnist_data_path = os.path.abspath(mnist_data_path)\n",
    "model_path = os.path.abspath(model_path)\n",
    "dst_path = mnist_data_path + '_attacked'\n",
    "dst_origin_path = dst_path + \"/origin\"\n",
    "dst_adv_path = dst_path + \"/adversarial\"\n",
    "\n",
    "if not os.path.isdir(mnist_data_path):\n",
    "    raise NotADirectoryError    \n",
    "    \n",
    "if not os.path.isdir(dst_path):\n",
    "    os.makedirs(dst_path)\n",
    "    print(f\"{dst_path} has been created\")\n",
    "    \n",
    "if not os.path.isdir(dst_origin_path):\n",
    "    os.makedirs(dst_origin_path)\n",
    "    print(f\"{dst_origin_path} has been created\")\n",
    "    \n",
    "if not os.path.isdir(dst_adv_path):\n",
    "    os.makedirs(dst_adv_path)\n",
    "    print(f\"{dst_adv_path} has been created\")\n",
    "    \n",
    "device = 'cuda' if torch.cuda.is_available() else 'cpu'"
   ]
  },
  {
   "cell_type": "code",
   "execution_count": null,
   "metadata": {},
   "outputs": [],
   "source": [
    "mnist_train_dataloader, mnist_val_dataloader = data.get_mnist(batch_size, image_size=image_size)\n",
    "\n",
    "# print(f'[INFO] getting model {model_weights}')\n",
    "model = torch.load(f=model_path)\n",
    "model.eval().to(device)\n",
    "\n",
    "i = 0\n",
    "for img_batch, target_batch in tqdm(mnist_val_dateloader):\n",
    "    ori_sample = img_batch.__getitem__(0)\n",
    "    ori_sample = ori_sample.to('cpu')\n",
    "    ori_sample = torch.reshape(ori_sample, [image_size, image_size]).numpy()\n",
    "    plt.imsave(f'./final-report/VOne-adv-img-samples/V1-ori-sample{i}.bmp', ori_sample)\n",
    "\n",
    "    # generate adversarial image batch\n",
    "    adv_img_batch, adv_target_batch = generate_image_adversary(model=model, img_batch=img_batch,\n",
    "                                                               target_batch=target_batch)\n",
    "    adv_img_batch = adv_img_batch.to(device)\n",
    "    adv_target_batch = adv_target_batch.to(device)\n",
    "\n",
    "    adv_sample = adv_img_batch.__getitem__(0)\n",
    "    adv_sample = adv_sample.to('cpu')\n",
    "    adv_sample = torch.reshape(adv_sample, [28, 28]).numpy()\n",
    "    plt.imsave(f'./final-report/VOne-adv-img-samples/V1-adv-sample{i}.bmp', adv_sample)\n",
    "    i += 1"
   ]
  }
 ],
 "metadata": {
  "kernelspec": {
   "display_name": "Python 3",
   "language": "python",
   "name": "python3"
  },
  "language_info": {
   "codemirror_mode": {
    "name": "ipython",
    "version": 3
   },
   "file_extension": ".py",
   "mimetype": "text/x-python",
   "name": "python",
   "nbconvert_exporter": "python",
   "pygments_lexer": "ipython3",
   "version": "3.8.5"
  }
 },
 "nbformat": 4,
 "nbformat_minor": 4
}
